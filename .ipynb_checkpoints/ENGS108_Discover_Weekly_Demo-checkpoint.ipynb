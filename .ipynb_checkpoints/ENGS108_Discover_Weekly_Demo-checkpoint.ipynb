{
 "cells": [
  {
   "cell_type": "markdown",
   "metadata": {},
   "source": [
    "# ENGS 108 Applied Machine Learning \n",
    "## Final Project\n",
    "\n",
    "### Predicting likelyhood of a song being successful"
   ]
  },
  {
   "cell_type": "markdown",
   "metadata": {},
   "source": [
    "# DEMO"
   ]
  },
  {
   "cell_type": "code",
   "execution_count": 1,
   "metadata": {
    "collapsed": true
   },
   "outputs": [],
   "source": [
    "import pandas as pd \n",
    "import numpy as np\n",
    "import spotipy \n",
    "sp = spotipy.Spotify() \n",
    "from spotipy.oauth2 import SpotifyClientCredentials\n",
    "from sklearn.model_selection import train_test_split\n",
    "from sklearn import metrics\n",
    "#for scaling the data\n",
    "from sklearn.preprocessing import StandardScaler\n",
    "\n",
    "import matplotlib.pyplot as plt"
   ]
  },
  {
   "cell_type": "code",
   "execution_count": 2,
   "metadata": {
    "collapsed": true
   },
   "outputs": [],
   "source": [
    "cid =\"af834c73413b4e3abe51409e54a12b56\" #CLIENT ID\n",
    "secret = \"c572f66c7257454ea5189dee36084cdd\" # CLIENT SECRET"
   ]
  },
  {
   "cell_type": "code",
   "execution_count": 3,
   "metadata": {
    "collapsed": true
   },
   "outputs": [],
   "source": [
    "def get_playlist(user_ID, playlist_URI, cid, secret):\n",
    "    client_credentials_manager = SpotifyClientCredentials(client_id=cid, client_secret=secret) \n",
    "    sp = spotipy.Spotify(client_credentials_manager=client_credentials_manager) \n",
    "    sp.trace=False \n",
    "    playlist = sp.user_playlist(user_ID, playlist_URI) \n",
    "    songs = playlist[\"tracks\"][\"items\"] \n",
    "    ids = [] \n",
    "    titles = []\n",
    "    artists = []\n",
    "    for i in range(len(songs)): \n",
    "        ids.append(songs[i][\"track\"][\"id\"])\n",
    "        artists.append(songs[i]['track']['artists'][0]['name'])\n",
    "        titles.append(songs[i]['track']['name'])\n",
    "    features = sp.audio_features(ids) \n",
    "    return pd.DataFrame(features), artists, titles"
   ]
  },
  {
   "cell_type": "code",
   "execution_count": 7,
   "metadata": {
    "collapsed": true
   },
   "outputs": [],
   "source": [
    "#Source https://github.com/fchollet/keras/issues/5400\n",
    "def precision(y_true, y_pred):\n",
    "    \"\"\"Precision metric.\n",
    "    Only computes a batch-wise average of precision.\n",
    "    Computes the precision, a metric for multi-label classification of\n",
    "    how many selected items are relevant.\n",
    "    \"\"\"\n",
    "    true_positives = K.sum(K.round(K.clip(y_true * y_pred, 0, 1)))\n",
    "    predicted_positives = K.sum(K.round(K.clip(y_pred, 0, 1)))\n",
    "    precision = true_positives / (predicted_positives + K.epsilon())\n",
    "    return precision\n",
    "\n",
    "\n",
    "def recall(y_true, y_pred):\n",
    "    \"\"\"Recall metric.\n",
    "    Only computes a batch-wise average of recall.\n",
    "    Computes the recall, a metric for multi-label classification of\n",
    "    how many relevant items are selected.\n",
    "    \"\"\"\n",
    "    true_positives = K.sum(K.round(K.clip(y_true * y_pred, 0, 1)))\n",
    "    possible_positives = K.sum(K.round(K.clip(y_true, 0, 1)))\n",
    "    recall = true_positives / (possible_positives + K.epsilon())\n",
    "    return recall\n"
   ]
  },
  {
   "cell_type": "code",
   "execution_count": 10,
   "metadata": {
    "collapsed": true
   },
   "outputs": [],
   "source": [
    "def get_print_results(X_train, X_test, y_train, y_test, ep, bs):\n",
    "    model.fit(X_train, y_train,nb_epoch=ep, batch_size=bs)\n",
    "    pred = model.predict(X_test)\n",
    "    fpr, tpr, thresholds = metrics.roc_curve(y_test, pred, pos_label=1)\n",
    "    auc = metrics.roc_auc_score(y_test, pred)\n",
    "    plt.plot([0, 1], [0, 1], 'k--')\n",
    "    plt.plot(fpr, tpr, label='fpr vs tpr')\n",
    "    plt.xlabel('False positive rate')\n",
    "    plt.ylabel('True positive rate')\n",
    "    plt.title('ROC curve')\n",
    "    plt.legend(loc='best')\n",
    "    plt.show()\n",
    "    print auc\n",
    "    return pred, auc"
   ]
  },
  {
   "cell_type": "markdown",
   "metadata": {},
   "source": [
    "## ENTER SPOTIFY USER ID"
   ]
  },
  {
   "cell_type": "code",
   "execution_count": 4,
   "metadata": {
    "collapsed": true
   },
   "outputs": [],
   "source": [
    "user_ID = \"giulia.celentano\""
   ]
  },
  {
   "cell_type": "markdown",
   "metadata": {},
   "source": [
    "## ENTER SPOTIFY PLAYLIST URI"
   ]
  },
  {
   "cell_type": "code",
   "execution_count": 5,
   "metadata": {
    "collapsed": true
   },
   "outputs": [],
   "source": [
    "playlist_URI = \"6HNpVQsvrWaU4uyGxmYFIO\""
   ]
  },
  {
   "cell_type": "markdown",
   "metadata": {},
   "source": [
    "## RUN THE FOLLOWING CELLS"
   ]
  },
  {
   "cell_type": "code",
   "execution_count": 12,
   "metadata": {},
   "outputs": [
    {
     "data": {
      "text/plain": [
       "(200, 16)"
      ]
     },
     "execution_count": 12,
     "metadata": {},
     "output_type": "execute_result"
    }
   ],
   "source": [
    "k_df = pd.read_csv(\"data.csv\")\n",
    "k_df = k_df.drop(['Unnamed: 0'], axis=1)\n",
    "k_df[k_df['target']==1].shape\n",
    "\n",
    "test_df, test_df['artist'], test_df['song_title'] = get_playlist(user_ID, playlist_URI, cid, secret)\n",
    "test_df = test_df.drop(['analysis_url','id','type','track_href','uri'], axis=1)\n",
    "test_df['target'] = np.ones(len(test_df))\n",
    "\n",
    "rand = k_df[k_df['target']==0]\n",
    "train = test_df.append(rand.tail(100))\n",
    "train.shape"
   ]
  },
  {
   "cell_type": "code",
   "execution_count": 8,
   "metadata": {},
   "outputs": [
    {
     "name": "stderr",
     "output_type": "stream",
     "text": [
      "Using TensorFlow backend.\n"
     ]
    }
   ],
   "source": [
    "import keras\n",
    "from keras.models import Sequential\n",
    "from keras.layers import Dense, Activation\n",
    "from keras import backend as K"
   ]
  },
  {
   "cell_type": "code",
   "execution_count": 9,
   "metadata": {},
   "outputs": [
    {
     "name": "stdout",
     "output_type": "stream",
     "text": [
      "_________________________________________________________________\n",
      "Layer (type)                 Output Shape              Param #   \n",
      "=================================================================\n",
      "L1 (Dense)                   (None, 160)               2240      \n",
      "_________________________________________________________________\n",
      "L2 (Dense)                   (None, 80)                12880     \n",
      "_________________________________________________________________\n",
      "Classifier (Dense)           (None, 1)                 81        \n",
      "=================================================================\n",
      "Total params: 15,201\n",
      "Trainable params: 15,201\n",
      "Non-trainable params: 0\n",
      "_________________________________________________________________\n"
     ]
    }
   ],
   "source": [
    "# Define Model Parameters\n",
    "nb_feat   = 13             # no. of features/columns of input\n",
    "layers    = [160,80]       # no. of nodes in layers\n",
    "nb_class  = 1              # no. of output classes\n",
    "model = Sequential()                             # Sequential network model description\n",
    "model.add(Dense(layers[0],input_shape=(nb_feat,),\\\n",
    "            name='L1',\\\n",
    "            activation='sigmoid'))                       # Add 1st Dense Layer\n",
    "for i in range(1,len(layers)):\n",
    "    model.add(Dense(layers[i],\\\n",
    "            name='L%i'%(i+1),\\\n",
    "            activation='sigmoid'))                       # Add ith Dense Layer\n",
    "\n",
    "model.add(Dense(units=nb_class,\\\n",
    "                name='Classifier',\\\n",
    "                activation='sigmoid'))                   # Add 4th Dense Layer, also the classification layer\n",
    "\n",
    "model.compile(loss='binary_crossentropy',optimizer='sgd', metrics=['accuracy', recall, precision])        \n",
    "model.summary()"
   ]
  },
  {
   "cell_type": "code",
   "execution_count": 16,
   "metadata": {},
   "outputs": [
    {
     "name": "stdout",
     "output_type": "stream",
     "text": [
      "StandardScaler(copy=True, with_mean=True, with_std=True)\n",
      "StandardScaler(copy=True, with_mean=True, with_std=True)\n",
      "(160, 13)\n",
      "Epoch 1/20\n",
      "160/160 [==============================] - 0s - loss: 0.6137 - acc: 0.6562 - recall: 0.3937 - precision: 0.3937       \n",
      "Epoch 2/20\n",
      "160/160 [==============================] - 0s - loss: 0.6080 - acc: 0.6750 - recall: 0.4062 - precision: 0.4062     \n",
      "Epoch 3/20\n",
      "160/160 [==============================] - 0s - loss: 0.5998 - acc: 0.6875 - recall: 0.3875 - precision: 0.3875         \n",
      "Epoch 4/20\n",
      "160/160 [==============================] - 0s - loss: 0.5963 - acc: 0.6813 - recall: 0.4062 - precision: 0.4062     \n",
      "Epoch 5/20\n",
      "160/160 [==============================] - 0s - loss: 0.5961 - acc: 0.7062 - recall: 0.4125 - precision: 0.4125     \n",
      "Epoch 6/20\n",
      "160/160 [==============================] - 0s - loss: 0.5972 - acc: 0.6625 - recall: 0.3687 - precision: 0.3687     \n",
      "Epoch 7/20\n",
      "160/160 [==============================] - 0s - loss: 0.5815 - acc: 0.6813 - recall: 0.3937 - precision: 0.3937         \n",
      "Epoch 8/20\n",
      "160/160 [==============================] - 0s - loss: 0.5934 - acc: 0.7188 - recall: 0.4000 - precision: 0.4000         \n",
      "Epoch 9/20\n",
      "160/160 [==============================] - 0s - loss: 0.5877 - acc: 0.7188 - recall: 0.3937 - precision: 0.3937     \n",
      "Epoch 10/20\n",
      "160/160 [==============================] - 0s - loss: 0.5914 - acc: 0.6750 - recall: 0.3875 - precision: 0.3875     \n",
      "Epoch 11/20\n",
      "160/160 [==============================] - 0s - loss: 0.5740 - acc: 0.7125 - recall: 0.4062 - precision: 0.4062         \n",
      "Epoch 12/20\n",
      "160/160 [==============================] - 0s - loss: 0.5770 - acc: 0.7000 - recall: 0.3937 - precision: 0.3937       \n",
      "Epoch 13/20\n",
      "160/160 [==============================] - 0s - loss: 0.5868 - acc: 0.6625 - recall: 0.3875 - precision: 0.3875     \n",
      "Epoch 14/20\n",
      "160/160 [==============================] - 0s - loss: 0.5703 - acc: 0.7188 - recall: 0.4000 - precision: 0.4000     \n",
      "Epoch 15/20\n",
      "160/160 [==============================] - 0s - loss: 0.5816 - acc: 0.6937 - recall: 0.4062 - precision: 0.4062       \n",
      "Epoch 16/20\n",
      "160/160 [==============================] - 0s - loss: 0.5794 - acc: 0.7062 - recall: 0.4125 - precision: 0.4125     \n",
      "Epoch 17/20\n",
      "160/160 [==============================] - 0s - loss: 0.5820 - acc: 0.7000 - recall: 0.4062 - precision: 0.4062       \n",
      "Epoch 18/20\n",
      "160/160 [==============================] - 0s - loss: 0.5798 - acc: 0.6937 - recall: 0.3750 - precision: 0.3750     \n",
      "Epoch 19/20\n",
      "160/160 [==============================] - 0s - loss: 0.5768 - acc: 0.6813 - recall: 0.3750 - precision: 0.3750       \n",
      "Epoch 20/20\n",
      "160/160 [==============================] - 0s - loss: 0.5810 - acc: 0.7125 - recall: 0.4187 - precision: 0.4187     \n"
     ]
    },
    {
     "data": {
      "image/png": "[encoded data removed]",
      "text/plain": [
       "<matplotlib.figure.Figure at 0x1c1921ea10>"
      ]
     },
     "metadata": {},
     "output_type": "display_data"
    },
    {
     "name": "stdout",
     "output_type": "stream",
     "text": [
      "0.752136752137\n"
     ]
    }
   ],
   "source": [
    "scaler = StandardScaler()\n",
    "X = train.drop(['target'],axis=1).values\n",
    "y = train['target'].values\n",
    "X_train, X_test, y_train, y_test = train_test_split(X, y, test_size=0.2)\n",
    "\n",
    "test_song = X_test[:,10]\n",
    "test_art = X_test[:,1]\n",
    "\n",
    "X_test = np.delete(X_test,[1,10],1)\n",
    "X_train = np.delete(X_train,[1,10],1)\n",
    "\n",
    "print(scaler.fit(X_train))\n",
    "X_train = scaler.transform(X_train)\n",
    "\n",
    "print(scaler.fit(X_test))\n",
    "X_test = scaler.transform(X_test)\n",
    "\n",
    "\n",
    "print X_train.shape\n",
    "X_train[15,:]\n",
    "\n",
    "pred = get_print_results(X_train, X_test, y_train, y_test, 20, 1)\n"
   ]
  },
  {
   "cell_type": "code",
   "execution_count": 21,
   "metadata": {},
   "outputs": [],
   "source": [
    "## Fix for wierd error\n",
    "# UnicodeDecodeError: 'ascii' codec can't decode byte 0xe8 in position 1: ordinal not in range(128).\n",
    "\n",
    "import sys  \n",
    "reload(sys)  \n",
    "sys.setdefaultencoding('utf8')\n",
    "\n",
    "\n",
    "####################################################################################################\n",
    "\n",
    "X = k_df.drop(['target'],axis=1).values\n",
    "test_song = X[:,13]\n",
    "test_art = X[:,14]\n",
    "X_test = np.delete(X,[13,14],1)\n",
    "\n",
    "print(scaler.fit(X_test))\n",
    "X_test = scaler.transform(X_test)\n",
    "\n",
    "\n",
    "print X_test.shape\n",
    "X_test[15,:]\n",
    "\n",
    "pred = model.predict(X_test)\n",
    "X_test = np.append(X_test,pred, axis=1)\n",
    "X_test = np.append(X_test,[[x] for x in test_art], axis=1)\n",
    "X_test = np.append(X_test,[[x] for x in test_song], axis=1)\n",
    "out = pd.DataFrame(X_test, columns = k_df.columns.values)\n",
    "out.sort_values('target', ascending=False).head (5)"
   ]
  },
  {
   "cell_type": "markdown",
   "metadata": {},
   "source": [
    "## The resulting top 5 songs predicted from the Kaggle dataset shows in your terminal"
   ]
  }
 ],
 "metadata": {
  "kernelspec": {
   "display_name": "Python 2",
   "language": "python",
   "name": "python2"
  },
  "language_info": {
   "codemirror_mode": {
    "name": "ipython",
    "version": 2
   },
   "file_extension": ".py",
   "mimetype": "text/x-python",
   "name": "python",
   "nbconvert_exporter": "python",
   "pygments_lexer": "ipython2",
   "version": "2.7.13"
  }
 },
 "nbformat": 4,
 "nbformat_minor": 2
}
